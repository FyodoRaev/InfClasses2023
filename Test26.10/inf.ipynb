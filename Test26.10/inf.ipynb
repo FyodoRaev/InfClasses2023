{
 "cells": [
  {
   "cell_type": "markdown",
   "metadata": {},
   "source": [
    "## Задание с классом Child"
   ]
  },
  {
   "cell_type": "code",
   "execution_count": null,
   "metadata": {},
   "outputs": [],
   "source": [
    "class Child():\n",
    "    def __init__(self, age, name):\n",
    "        self.age = age\n",
    "        self.name = name\n",
    "    \n",
    "    def __str__(self):\n",
    "        s = \"(\" + str(self.age) + \",\" + str(self.name) + \")\"\n",
    "        return s \n",
    "    def study(self):\n",
    "        return None\n",
    "\n",
    "class Pupil(Child):\n",
    "    def __init__(self, klass):\n",
    "        super().__init__()\n",
    "        self.klass = klass\n",
    "    def __str__(self):\n",
    "        s = \"(\" + str(self.age) + \",\" + str(self.name) + str(self.klass) + \")\"\n",
    "        return s \n",
    "    def study(self):\n",
    "        s = \"School\"\n",
    "        return s\n",
    "    def __lt__(self, other):  #реализация сравнений  в python\n",
    "        if other.klass != self.klass:\n",
    "            return int(self.klass < other.klass)\n",
    "        else:\n",
    "            if self.name == other.name:\n",
    "                return \"==\"\n",
    "            elif self.name > other.name:\n",
    "                return \">\"\n",
    "            else:\n",
    "                return \"<\"\n",
    "    def __gt__(self, other):\n",
    "        if other.klass != self.klass:\n",
    "            return int(self.klass > other.klass)\n",
    "        else:\n",
    "            if self.name == other.name:\n",
    "                return \"==\"\n",
    "            elif self.name > other.name:\n",
    "                return \">\"\n",
    "            else:\n",
    "                return \"<\"\n",
    "    def __eq__(self, other):\n",
    "        if other.klass == self.klass and other.name == self.name:\n",
    "            return 1\n",
    "        else:\n",
    "            return 0\n",
    "\n",
    "\n"
   ]
  },
  {
   "cell_type": "markdown",
   "metadata": {},
   "source": [
    "## Задание с классом Number"
   ]
  },
  {
   "cell_type": "code",
   "execution_count": null,
   "metadata": {},
   "outputs": [],
   "source": [
    "class Number():\n",
    "    def __init__(self, value): \n",
    "        if value >= 0:\n",
    "            self.value = value\n",
    "        else:\n",
    "            self.value = 1\n",
    "    def __str__(self):\n",
    "        s = \"[ Number = \" + str(self.value) + \" ]\"\n",
    "        return s\n",
    "    def next(self, x=1): # если некст ничего не передано увеличит на единицу\n",
    "        self.value += x \n",
    "        return (self.value)\n",
    "    def prev(self, x=1) # если прев ничего не передано уменьшит на единицу\n",
    "        self.value -= x\n",
    "        return (self.value)\n",
    "    def get_value(self):\n",
    "        return self.value\n",
    "    def set_value(self, x):\n",
    "        self.value = x\n"
   ]
  },
  {
   "cell_type": "code",
   "execution_count": 4,
   "metadata": {},
   "outputs": [
    {
     "name": "stdout",
     "output_type": "stream",
     "text": [
      "5.0\n",
      "1x + 2y + 3 = 0\n"
     ]
    }
   ],
   "source": [
    "from math import sqrt\n",
    "class Point():\n",
    "    def __init__(self, x=0, y=0): # по сути конструктор с default параметрами (0 0)\n",
    "        self.x = x \n",
    "        self.y = y\n",
    "    def __str__(self):\n",
    "        s = \"(\" + str(self.x) + \", \" + str(self.y) + \")\"\n",
    "    def distanceToZero(self):\n",
    "        return (sqrt(self.x**2 + self.y ** 2))\n",
    "    def distanceTo(self, other):\n",
    "        return sqrt(((self.x - other.x) ** 2) + ((self.y - other.y) ** 2)) \n",
    "\n",
    "\n",
    "class Line():\n",
    "    def __init__(self, a, b, c):\n",
    "        self.__a = a #Аналог приватности поля в питоне\n",
    "        self.__b = b\n",
    "        self.__c = c\n",
    "    def __str__(self):\n",
    "        s = str(self.__a) + \"x\" + \" + \" +  str(self.__b ) + \"y\" + \" + \" + str(self.__c) + \" = 0\"\n",
    "        return s\n",
    "    def params(self):\n",
    "        abc = list()\n",
    "        abc.append(self.__a)\n",
    "        abc.append(self.__b)\n",
    "        abc.append(self.__c)\n",
    "        return abc\n",
    "    def distanceToZero(self):\n",
    "        dist = abs(self.__c) / sqrt((self.__a**2) + (self.__b**2))\n",
    "        return dist\n",
    "    def distanceToPoint(self, other: Point):\n",
    "        dist = abs(self.__a * other.x + self.__b * other.y + self.__c) / sqrt((self.__a**2) + (self.__b**2))\n",
    "        return dist\n",
    "    def isParralel(self, other):\n",
    "        other_params = other.params()\n",
    "        if (-self.__a / self.__b) == (-other_params[0] / other_params[1]) and self.__c != other_params[2]: # параллельны но не совпадают:\n",
    "                return True\n",
    "        else:\n",
    "            return False\n",
    "    def intersection(self, other):\n",
    "        if self.isParralel(other) == True:\n",
    "            return None\n",
    "        else:\n",
    "            other_params = other.params()\n",
    "            x = (self.__c - other_params[2]) / (other_params[0]/other_params[1] - self.__a/self.__b)\n",
    "            y = -self.__a/self.__b * x - self.__c\n",
    "            return Point(x, y)\n",
    "\n",
    "p = Point(3, 4)\n",
    "other = Point(0, 0)\n",
    "print(p.distanceTo(other))\n",
    "\n",
    "ln = Line(1, 2 ,3)\n",
    "print(str(ln))\n"
   ]
  }
 ],
 "metadata": {
  "kernelspec": {
   "display_name": "Python 3",
   "language": "python",
   "name": "python3"
  },
  "language_info": {
   "codemirror_mode": {
    "name": "ipython",
    "version": 3
   },
   "file_extension": ".py",
   "mimetype": "text/x-python",
   "name": "python",
   "nbconvert_exporter": "python",
   "pygments_lexer": "ipython3",
   "version": "3.11.4"
  },
  "orig_nbformat": 4
 },
 "nbformat": 4,
 "nbformat_minor": 2
}
