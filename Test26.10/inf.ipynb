{
 "cells": [
  {
   "cell_type": "code",
   "execution_count": null,
   "metadata": {},
   "outputs": [],
   "source": [
    "class Child():\n",
    "    def __init__(self, age, name):\n",
    "        self.age = age\n",
    "        self.name = name\n",
    "    \n",
    "    def to_string(self):\n",
    "        s = \"(\" + str(self.age) + \",\" + str(self.name) + \")\"\n",
    "        return s \n",
    "\n",
    "class Pupil(Child):\n",
    "    def __init__(self, klass):\n",
    "        super().__init__()\n",
    "        self.klass = klass\n",
    "    def to_string(self):\n",
    "        s = \"(\" + str(self.age) + \",\" + str(self.name) + str(self.klass) + \")\"\n",
    "        return s \n",
    "\n",
    "\n"
   ]
  }
 ],
 "metadata": {
  "language_info": {
   "name": "python"
  },
  "orig_nbformat": 4
 },
 "nbformat": 4,
 "nbformat_minor": 2
}
